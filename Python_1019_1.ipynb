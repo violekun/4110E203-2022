{
  "nbformat": 4,
  "nbformat_minor": 0,
  "metadata": {
    "colab": {
      "provenance": []
    },
    "kernelspec": {
      "name": "python3",
      "display_name": "Python 3"
    },
    "language_info": {
      "name": "python"
    }
  },
  "cells": [
    {
      "cell_type": "markdown",
      "source": [
        "Exercise1:\n"
      ],
      "metadata": {
        "id": "v0FY621szZJM"
      }
    },
    {
      "cell_type": "code",
      "source": [
        "a = 50\n",
        "b = 10\n",
        "if a > b:\n",
        "\n",
        "  print(\"Hello World\")"
      ],
      "metadata": {
        "colab": {
          "base_uri": "https://localhost:8080/"
        },
        "id": "R54Ryb2t0_mE",
        "outputId": "e3d693ee-cce9-4ba8-9b0d-8021c461c47b"
      },
      "execution_count": 3,
      "outputs": [
        {
          "output_type": "stream",
          "name": "stdout",
          "text": [
            "Hello World\n"
          ]
        }
      ]
    },
    {
      "cell_type": "markdown",
      "source": [
        "Exercise2:"
      ],
      "metadata": {
        "id": "tpHA2_yvAwvX"
      }
    },
    {
      "cell_type": "code",
      "source": [
        "a = 50\n",
        "b = 10\n",
        "if a != b:\n",
        "\n",
        "  print(\"Hello World\")"
      ],
      "metadata": {
        "colab": {
          "base_uri": "https://localhost:8080/"
        },
        "id": "MtRkCwtpA-RC",
        "outputId": "0cc0714f-e757-4fb8-95e5-a1ac82497d54"
      },
      "execution_count": 5,
      "outputs": [
        {
          "output_type": "stream",
          "name": "stdout",
          "text": [
            "Hello World\n"
          ]
        }
      ]
    },
    {
      "cell_type": "markdown",
      "source": [
        "Exercise3:"
      ],
      "metadata": {
        "id": "TKgAkuw2BIj3"
      }
    },
    {
      "cell_type": "code",
      "source": [
        "a = 50\n",
        "b = 10\n",
        "if a == b:\n",
        "  print(\"Yes\")\n",
        "else:\n",
        "  print(\"No\")"
      ],
      "metadata": {
        "colab": {
          "base_uri": "https://localhost:8080/"
        },
        "id": "UsHuckaABKNh",
        "outputId": "7bfc6b92-05d8-42f0-eab0-4aa2b26c5c38"
      },
      "execution_count": 7,
      "outputs": [
        {
          "output_type": "stream",
          "name": "stdout",
          "text": [
            "No\n"
          ]
        }
      ]
    },
    {
      "cell_type": "markdown",
      "source": [
        "Exercise4:"
      ],
      "metadata": {
        "id": "ioJT0DnMBkt_"
      }
    },
    {
      "cell_type": "code",
      "source": [
        "a = 50\n",
        "b = 10\n",
        "if a == b:\n",
        "  print(\"1\")\n",
        "elif a > b:\n",
        "  print(\"2\")\n",
        "else:\n",
        "  print(\"3\")"
      ],
      "metadata": {
        "colab": {
          "base_uri": "https://localhost:8080/"
        },
        "id": "jAbXYGsXBnwQ",
        "outputId": "61891dbf-30d2-4fe0-bae5-77eaabfae839"
      },
      "execution_count": 8,
      "outputs": [
        {
          "output_type": "stream",
          "name": "stdout",
          "text": [
            "2\n"
          ]
        }
      ]
    },
    {
      "cell_type": "markdown",
      "source": [
        "Exercise5:"
      ],
      "metadata": {
        "id": "oZ2y3DAZCcCi"
      }
    },
    {
      "cell_type": "code",
      "source": [
        "if a == b and c == d:\n",
        "  print(\"Hello\")"
      ],
      "metadata": {
        "id": "YHrBALhyCdhy"
      },
      "execution_count": 12,
      "outputs": []
    },
    {
      "cell_type": "markdown",
      "source": [
        "Exercise6:"
      ],
      "metadata": {
        "id": "syL7YJk8C_zb"
      }
    },
    {
      "cell_type": "code",
      "source": [
        "if a = b or c = d:  \n",
        "    print(\"Hello\")\n",
        "\n"
      ],
      "metadata": {
        "colab": {
          "base_uri": "https://localhost:8080/",
          "height": 130
        },
        "id": "TpnFbxAEDEdE",
        "outputId": "d05b3854-5f92-405d-c5e8-8e05e63b203c"
      },
      "execution_count": 5,
      "outputs": [
        {
          "output_type": "error",
          "ename": "SyntaxError",
          "evalue": "ignored",
          "traceback": [
            "\u001b[0;36m  File \u001b[0;32m\"<ipython-input-5-312cafe8e304>\"\u001b[0;36m, line \u001b[0;32m1\u001b[0m\n\u001b[0;31m    if a = b or c = d:\u001b[0m\n\u001b[0m         ^\u001b[0m\n\u001b[0;31mSyntaxError\u001b[0m\u001b[0;31m:\u001b[0m invalid syntax\n"
          ]
        }
      ]
    },
    {
      "cell_type": "markdown",
      "source": [
        "Exercise7:"
      ],
      "metadata": {
        "id": "PRcwf_q4D3FN"
      }
    },
    {
      "cell_type": "code",
      "source": [
        "if 5 > 2:\n",
        "  print(\"Five is greater than two!\")"
      ],
      "metadata": {
        "colab": {
          "base_uri": "https://localhost:8080/"
        },
        "id": "4BmkwnHuD58u",
        "outputId": "7f1dc566-e5ec-4e2e-d475-d29abe7fa9b8"
      },
      "execution_count": 21,
      "outputs": [
        {
          "output_type": "stream",
          "name": "stdout",
          "text": [
            "Five is greater than two!\n"
          ]
        }
      ]
    },
    {
      "cell_type": "markdown",
      "source": [
        "Exercise8:"
      ],
      "metadata": {
        "id": "SPpm4PtKEAXV"
      }
    },
    {
      "cell_type": "code",
      "source": [
        "if 5 > 2:\n",
        "  print(\"Five is greater than two!\")"
      ],
      "metadata": {
        "colab": {
          "base_uri": "https://localhost:8080/"
        },
        "id": "ChKP2KN9ECI9",
        "outputId": "5d3c9aa2-8af0-49a3-8ef7-016c1f9226d9"
      },
      "execution_count": 23,
      "outputs": [
        {
          "output_type": "stream",
          "name": "stdout",
          "text": [
            "Five is greater than two!\n"
          ]
        }
      ]
    },
    {
      "cell_type": "markdown",
      "source": [
        "Exercise9:"
      ],
      "metadata": {
        "id": "ZiNK_4shEhxR"
      }
    },
    {
      "cell_type": "code",
      "source": [
        "print(\"Yes\") if 5 > 2 else print(\"No\")"
      ],
      "metadata": {
        "colab": {
          "base_uri": "https://localhost:8080/"
        },
        "id": "de63qKjjEjTp",
        "outputId": "aaba767d-ffba-4a87-e2b0-dcf3f13c14c6"
      },
      "execution_count": 26,
      "outputs": [
        {
          "output_type": "stream",
          "name": "stdout",
          "text": [
            "Yes\n"
          ]
        }
      ]
    }
  ]
}