{
  "nbformat": 4,
  "nbformat_minor": 0,
  "metadata": {
    "colab": {
      "provenance": []
    },
    "kernelspec": {
      "name": "python3",
      "display_name": "Python 3"
    },
    "language_info": {
      "name": "python"
    }
  },
  "cells": [
    {
      "cell_type": "markdown",
      "source": [
        "Quiz:\n",
        "\n",
        "Exercise1:\n"
      ],
      "metadata": {
        "id": "v0FY621szZJM"
      }
    },
    {
      "cell_type": "code",
      "source": [
        "initial = 111\n",
        "\n",
        "for x in range(2,7,2):\n",
        "  initial *= x  #initial = initial*x\n",
        "\n",
        "print(initial)"
      ],
      "metadata": {
        "colab": {
          "base_uri": "https://localhost:8080/"
        },
        "id": "R54Ryb2t0_mE",
        "outputId": "5f205120-fb57-412d-c3cb-ac1d84b97c00"
      },
      "execution_count": null,
      "outputs": [
        {
          "output_type": "stream",
          "name": "stdout",
          "text": [
            "5328\n"
          ]
        }
      ]
    },
    {
      "cell_type": "markdown",
      "source": [
        "Quiz:\n",
        "\n",
        "Exercise2:"
      ],
      "metadata": {
        "id": "NvcWbe6u1X-e"
      }
    },
    {
      "cell_type": "code",
      "source": [
        "initial = 111\n",
        "\n",
        "for x in range(2,7,2):\n",
        "  initial -= x  #initial = initial - x\n",
        "\n",
        "print(initial)"
      ],
      "metadata": {
        "colab": {
          "base_uri": "https://localhost:8080/"
        },
        "id": "k6iT5tYA1ZNO",
        "outputId": "83764815-f6f9-411c-dcb9-c12a1b60c603"
      },
      "execution_count": null,
      "outputs": [
        {
          "output_type": "stream",
          "name": "stdout",
          "text": [
            "99\n"
          ]
        }
      ]
    }
  ]
}